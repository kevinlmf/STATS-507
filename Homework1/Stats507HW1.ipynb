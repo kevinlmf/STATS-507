{
 "cells": [
  {
   "cell_type": "code",
   "execution_count": 2,
   "id": "8bd3feac",
   "metadata": {},
   "outputs": [],
   "source": [
    "from IPython.display import Markdown as md"
   ]
  },
  {
   "cell_type": "code",
   "execution_count": 3,
   "id": "5dba9509",
   "metadata": {},
   "outputs": [],
   "source": [
    "#Chapter 1 Exercise 3,5,6,8"
   ]
  },
  {
   "cell_type": "code",
   "execution_count": 4,
   "id": "0b5c134b",
   "metadata": {},
   "outputs": [],
   "source": [
    "#Exercise 3\n",
    "ans=\"\"\"\n",
    "for interpreter we can directly run with it after writting the code\n",
    "however for compiler we have to cimpile it through the program first after writting the code\n",
    "and then we are able to excute it and this make the speed much slower compared to the interprer\n",
    "\"\"\"\n",
    "\n",
    " "
   ]
  },
  {
   "cell_type": "code",
   "execution_count": 5,
   "id": "ca1e5486",
   "metadata": {},
   "outputs": [],
   "source": [
    "#Exercise 5 \n",
    "ans=\"\"\"\n",
    "it should be print rather than primt.\n",
    "\"\"\""
   ]
  },
  {
   "cell_type": "code",
   "execution_count": 6,
   "id": "867a55ff",
   "metadata": {},
   "outputs": [],
   "source": [
    "#Exercise 6 \n",
    "ans=\"\"\"\n",
    "B\n",
    "\"\"\""
   ]
  },
  {
   "cell_type": "code",
   "execution_count": 7,
   "id": "57ed9009",
   "metadata": {},
   "outputs": [],
   "source": [
    "#Exercise 8 \n",
    "ans = \"\"\"\n",
    "1. Central Processing Unit (CPU): CPU is exactly like the human brain.\n",
    "And both of them process information,make decisions as well as control other parts.\n",
    "\n",
    "2. Main Memory: Main memory (RAM) is like short-term memory in a human. \n",
    "It temporarily stores information that is needed now, \n",
    "like how short-term memory holds information that you are currently using.\n",
    "\n",
    "3. Secondary Memory: Secondary memory is like long-term memory in a human. \n",
    "for both they stores information that is not immediately needed but can be recalled later.\n",
    "\n",
    "4. Input Device: An input device is like the human senses, such as eyes or ears, \n",
    "which allow us to take in information outside. \n",
    "\n",
    "5. Output Device: An output device is like the human ability to communicate or express information, \n",
    "such as speaking or writing. \n",
    "For example, a monitor is like the mouth speaking or the hands writing down words, as it displays information processed by the computer.\n",
    "\"\"\"\n"
   ]
  },
  {
   "cell_type": "code",
   "execution_count": null,
   "id": "ce952eda",
   "metadata": {},
   "outputs": [],
   "source": []
  },
  {
   "cell_type": "code",
   "execution_count": 8,
   "id": "e13e1a7a",
   "metadata": {},
   "outputs": [],
   "source": [
    "#Chapter 2"
   ]
  },
  {
   "cell_type": "code",
   "execution_count": 9,
   "id": "0c3503c3",
   "metadata": {},
   "outputs": [],
   "source": [
    "#Exercise 3\n",
    "def get_gross_pay(hours, rate_per_hour):\n",
    "    # Calculate gross pay by multiplying hours by rate per hour\n",
    "    gross_pay = hours * rate_per_hour\n",
    "    return gross_pay\n"
   ]
  },
  {
   "cell_type": "code",
   "execution_count": 10,
   "id": "b2004f94",
   "metadata": {},
   "outputs": [
    {
     "name": "stdout",
     "output_type": "stream",
     "text": [
      "Pay: 30\n"
     ]
    }
   ],
   "source": [
    "pay = get_gross_pay(3, 10)\n",
    "\n",
    "# Print the result\n",
    "print(\"Pay:\", pay)\n"
   ]
  },
  {
   "cell_type": "code",
   "execution_count": 11,
   "id": "9b5580e7",
   "metadata": {},
   "outputs": [],
   "source": [
    "#Exercise 4\n",
    "width=17\n",
    "height=12\n",
    "ans = [\n",
    "    (width//2, int),      # 17 // 2 = 8, and the type is int\n",
    "    (width / 2.0, float),   # 17 / 2.0 = 8.5, and the type is float\n",
    "    (height / 3, float),    # 12.0 / 3 = 4.0, and the type is float\n",
    "    (1 + 2 * 5, int)        # 1 + (2 * 5) = 11, and the type is int\n",
    "]\n",
    "\n",
    "\n"
   ]
  },
  {
   "cell_type": "code",
   "execution_count": 12,
   "id": "15952356",
   "metadata": {},
   "outputs": [
    {
     "data": {
      "text/plain": [
       "[(8, int), (8.5, float), (4.0, float), (11, int)]"
      ]
     },
     "execution_count": 12,
     "metadata": {},
     "output_type": "execute_result"
    }
   ],
   "source": [
    "ans"
   ]
  },
  {
   "cell_type": "code",
   "execution_count": 13,
   "id": "c430c9ae",
   "metadata": {},
   "outputs": [],
   "source": [
    "#Chapter 3 Exercise 1,2"
   ]
  },
  {
   "cell_type": "code",
   "execution_count": 14,
   "id": "3a3250ff",
   "metadata": {},
   "outputs": [],
   "source": [
    "#Exercise 1\n",
    "def get_gross_pay_1(hours, rate_per_hour):\n",
    "    # Calculate gross pay by multiplying hours by rate per hour\n",
    "    if hours <= 40:\n",
    "        gross_pay = hours * rate_per_hour\n",
    "    else:\n",
    "        overtime_rate = 1.5 * rate_per_hour\n",
    "        regular_pay = 40 * rate_per_hour\n",
    "        overtime_pay = (hours - 40) * overtime_rate\n",
    "        gross_pay = regular_pay + overtime_pay\n",
    "    return gross_pay\n",
    "\n"
   ]
  },
  {
   "cell_type": "code",
   "execution_count": 15,
   "id": "4b9d6af2",
   "metadata": {},
   "outputs": [
    {
     "data": {
      "text/plain": [
       "True"
      ]
     },
     "execution_count": 15,
     "metadata": {},
     "output_type": "execute_result"
    }
   ],
   "source": [
    "get_gross_pay(0, 1000)==0"
   ]
  },
  {
   "cell_type": "code",
   "execution_count": 16,
   "id": "0d253743",
   "metadata": {},
   "outputs": [],
   "source": [
    "#Exercise 2\n",
    "def get_gross_pay(hours, rate_per_hour):\n",
    "    try:\n",
    "        # Try converting hours and rate_per_hour to float in case they are passed as strings\n",
    "        hours = float(hours)\n",
    "        rate_per_hour = float(rate_per_hour)\n",
    "        \n",
    "        # Calculate gross pay by multiplying hours by rate per hour\n",
    "        gross_pay = hours * rate_per_hour\n",
    "        return gross_pay\n",
    "    except ValueError:\n",
    "        # Handle the case where the input is not numeric\n",
    "        print(\"Error: Please enter numeric values for hours and rate per hour.\")\n",
    "        return None\n",
    "\n"
   ]
  },
  {
   "cell_type": "code",
   "execution_count": 17,
   "id": "b5eb5d37",
   "metadata": {},
   "outputs": [
    {
     "data": {
      "text/plain": [
       "25.0"
      ]
     },
     "execution_count": 17,
     "metadata": {},
     "output_type": "execute_result"
    }
   ],
   "source": [
    "get_gross_pay(5, 5)"
   ]
  },
  {
   "cell_type": "code",
   "execution_count": 18,
   "id": "0089bb74",
   "metadata": {},
   "outputs": [],
   "source": [
    "#Chapter 4 Exercise1\n",
    "ans = \"\"\"\n",
    "c\n",
    "\n",
    "\"\"\""
   ]
  },
  {
   "cell_type": "code",
   "execution_count": 19,
   "id": "ddd569c4",
   "metadata": {},
   "outputs": [],
   "source": [
    "#Chapter 6 Exericse 1\n",
    "ans = \"\"\"\n",
    "I read the documentation.\n",
    "\"\"\""
   ]
  },
  {
   "cell_type": "code",
   "execution_count": null,
   "id": "7309b730",
   "metadata": {},
   "outputs": [],
   "source": []
  },
  {
   "cell_type": "code",
   "execution_count": 20,
   "id": "a6d4e949",
   "metadata": {},
   "outputs": [],
   "source": [
    "#Problem 2"
   ]
  },
  {
   "cell_type": "code",
   "execution_count": 21,
   "id": "9d14f4a0",
   "metadata": {},
   "outputs": [],
   "source": [
    "def gcd(a, b):\n",
    "    while b != 0:\n",
    "        a, b = b, a % b\n",
    "    return a\n"
   ]
  },
  {
   "cell_type": "code",
   "execution_count": 22,
   "id": "2b631039",
   "metadata": {},
   "outputs": [
    {
     "data": {
      "text/plain": [
       "1"
      ]
     },
     "execution_count": 22,
     "metadata": {},
     "output_type": "execute_result"
    }
   ],
   "source": [
    "gcd(4,5)"
   ]
  },
  {
   "cell_type": "code",
   "execution_count": 23,
   "id": "45e55c3c",
   "metadata": {},
   "outputs": [
    {
     "data": {
      "text/markdown": [
       "\n",
       "The function computes the greatest common divisor (GCD) of two integers, handling negative inputs as follows:\n",
       "\n",
       "1. The function uses the Euclidean algorithm, which works correctly with negative numbers because it relies on the modulus operation, which is well-defined for negative values in Python.\n",
       "2. By default, the GCD function will return a non-negative result even if the inputs are negative, due to the properties of the modulus operation.\n",
       "3. To ensure clarity and guarantee a non-negative GCD, you can take the absolute values of the arguments before applying the Euclidean algorithm.\n",
       "\n",
       "In summary, the function will compute the GCD of the absolute values of the inputs, and the result will always be non-negative.\n"
      ],
      "text/plain": [
       "<IPython.core.display.Markdown object>"
      ]
     },
     "execution_count": 23,
     "metadata": {},
     "output_type": "execute_result"
    }
   ],
   "source": [
    "#part 2\n",
    "from IPython.display import Markdown as md\n",
    "ans = '''\n",
    "The function computes the greatest common divisor (GCD) of two integers, handling negative inputs as follows:\n",
    "\n",
    "1. The function uses the Euclidean algorithm, which works correctly with negative numbers because it relies on the modulus operation, which is well-defined for negative values in Python.\n",
    "2. By default, the GCD function will return a non-negative result even if the inputs are negative, due to the properties of the modulus operation.\n",
    "3. To ensure clarity and guarantee a non-negative GCD, you can take the absolute values of the arguments before applying the Euclidean algorithm.\n",
    "\n",
    "In summary, the function will compute the GCD of the absolute values of the inputs, and the result will always be non-negative.\n",
    "'''\n",
    "md(ans)"
   ]
  },
  {
   "cell_type": "code",
   "execution_count": 24,
   "id": "bbeab12a",
   "metadata": {},
   "outputs": [],
   "source": [
    "#Problem 3"
   ]
  },
  {
   "cell_type": "code",
   "execution_count": 25,
   "id": "1d0046b1",
   "metadata": {},
   "outputs": [],
   "source": [
    "#part 1\n",
    "def euler_limit(n):\n",
    "  \n",
    " return(1+1/n)**n"
   ]
  },
  {
   "cell_type": "code",
   "execution_count": 26,
   "id": "5beb7026",
   "metadata": {},
   "outputs": [
    {
     "data": {
      "text/plain": [
       "2.0"
      ]
     },
     "execution_count": 26,
     "metadata": {},
     "output_type": "execute_result"
    }
   ],
   "source": [
    "euler_limit(1)"
   ]
  },
  {
   "cell_type": "code",
   "execution_count": 27,
   "id": "86a05b2b",
   "metadata": {},
   "outputs": [
    {
     "data": {
      "text/plain": [
       "True"
      ]
     },
     "execution_count": 27,
     "metadata": {},
     "output_type": "execute_result"
    }
   ],
   "source": [
    "euler_limit(2) == 2.25"
   ]
  },
  {
   "cell_type": "code",
   "execution_count": 28,
   "id": "f5ad18af",
   "metadata": {},
   "outputs": [
    {
     "data": {
      "text/plain": [
       "True"
      ]
     },
     "execution_count": 28,
     "metadata": {},
     "output_type": "execute_result"
    }
   ],
   "source": [
    "round(euler_limit(3),3) == 2.370"
   ]
  },
  {
   "cell_type": "code",
   "execution_count": 29,
   "id": "52d5f470",
   "metadata": {},
   "outputs": [
    {
     "data": {
      "text/markdown": [
       "\n",
       "For very large values of 𝑛 euler_limit(n) will approximate 𝑒 very closely.\n",
       "\n",
       "The reason why this will happen is due to  this expression is a well-known limit definition of \n",
       "𝑒. As n increases, the expression converges to 𝑒 due to the properties of exponential growth and the binomial expansion. \n"
      ],
      "text/plain": [
       "<IPython.core.display.Markdown object>"
      ]
     },
     "execution_count": 29,
     "metadata": {},
     "output_type": "execute_result"
    }
   ],
   "source": [
    "#part 2\n",
    "ans = '''\n",
    "For very large values of 𝑛 euler_limit(n) will approximate 𝑒 very closely.\n",
    "\n",
    "The reason why this will happen is due to  this expression is a well-known limit definition of \n",
    "𝑒. As n increases, the expression converges to 𝑒 due to the properties of exponential growth and the binomial expansion. \n",
    "'''\n",
    "md(ans)"
   ]
  },
  {
   "cell_type": "code",
   "execution_count": 30,
   "id": "5403d153",
   "metadata": {},
   "outputs": [],
   "source": [
    "#Part 3\n",
    "import math\n",
    "def euler_sum(n):\n",
    "    total_sum = 0.0\n",
    "    for k in range(n):\n",
    "        total_sum += 1 / math.factorial(k)\n",
    "    return total_sum"
   ]
  },
  {
   "cell_type": "code",
   "execution_count": 31,
   "id": "719e942d",
   "metadata": {},
   "outputs": [
    {
     "data": {
      "text/plain": [
       "2.5"
      ]
     },
     "execution_count": 31,
     "metadata": {},
     "output_type": "execute_result"
    }
   ],
   "source": [
    "euler_sum(3)"
   ]
  },
  {
   "cell_type": "code",
   "execution_count": 32,
   "id": "580a432b",
   "metadata": {},
   "outputs": [
    {
     "data": {
      "text/plain": [
       "True"
      ]
     },
     "execution_count": 32,
     "metadata": {},
     "output_type": "execute_result"
    }
   ],
   "source": [
    "round(euler_sum(4),3) == 2.667"
   ]
  },
  {
   "cell_type": "code",
   "execution_count": 33,
   "id": "399c6a56",
   "metadata": {},
   "outputs": [],
   "source": [
    "#Part 4\n",
    "\n",
    "import math\n",
    "\n",
    "def euler_approx(epsilon):\n",
    "    # Initialize variables\n",
    "    approximation = 0.0\n",
    "    factorial = 1\n",
    "    n = 0\n",
    "\n",
    "    # Continue adding terms until the change is less than epsilon\n",
    "    while True:\n",
    "        # Calculate the current term\n",
    "        term = 1 / factorial\n",
    "        # Add the term to the approximation\n",
    "        approximation += term\n",
    "        \n",
    "        # Check if the term is smaller than epsilon\n",
    "        if term < epsilon:\n",
    "            break\n",
    "        \n",
    "        # Update factorial and term index\n",
    "        n += 1\n",
    "        factorial *= n\n",
    "\n",
    "    return approximation\n",
    "\n",
    "\n",
    "\n"
   ]
  },
  {
   "cell_type": "code",
   "execution_count": 34,
   "id": "0bb5523a",
   "metadata": {},
   "outputs": [
    {
     "data": {
      "text/plain": [
       "True"
      ]
     },
     "execution_count": 34,
     "metadata": {},
     "output_type": "execute_result"
    }
   ],
   "source": [
    "abs(euler_approx(1e0) - math.exp(1)) < 1e0"
   ]
  },
  {
   "cell_type": "code",
   "execution_count": 35,
   "id": "16c1222b",
   "metadata": {},
   "outputs": [
    {
     "name": "stdout",
     "output_type": "stream",
     "text": [
      "Approximation of e using 10 terms: 2.7182815255731922\n",
      "True value of e: 2.718281828459045\n",
      "Error: 3.0288585284310443e-07\n"
     ]
    }
   ],
   "source": [
    "#Part 5\n",
    "import math\n",
    "\n",
    "def print_euler_sum_error(n):\n",
    "    # Initialize variables\n",
    "    approximation = 0.0\n",
    "    factorial = 1\n",
    "    \n",
    "    # Sum the series up to n terms\n",
    "    for i in range(n):\n",
    "        if i > 0:\n",
    "            factorial *= i\n",
    "        approximation += 1 / factorial\n",
    "    \n",
    "    # Calculate the true value of e\n",
    "    true_value = math.exp(1)\n",
    "    \n",
    "    # Calculate the error\n",
    "    error = abs(approximation - true_value)\n",
    "    \n",
    "    # Print the results\n",
    "    print(f\"Approximation of e using {n} terms: {approximation}\")\n",
    "    print(f\"True value of e: {true_value}\")\n",
    "    print(f\"Error: {error}\")\n",
    "\n",
    "# Example usage\n",
    "print_euler_sum_error(10)\n",
    "\n",
    "\n",
    "\n",
    "\n",
    "\n"
   ]
  },
  {
   "cell_type": "code",
   "execution_count": 36,
   "id": "1463c7e8",
   "metadata": {},
   "outputs": [
    {
     "name": "stdout",
     "output_type": "stream",
     "text": [
      "Approximation of e using (1 + 1/10)^10: 2.5937424601000023\n",
      "True value of e: 2.718281828459045\n",
      "Error: 0.12453936835904278\n"
     ]
    }
   ],
   "source": [
    "#Part 5\n",
    "import math\n",
    "\n",
    "def euler_limit(n):\n",
    "    # Calculate (1 + 1/n)^n\n",
    "    return (1 + 1 / n) ** n\n",
    "\n",
    "def print_euler_lim_error(n):\n",
    "    # Calculate the approximation using euler_limit\n",
    "    approximation = euler_limit(n)\n",
    "    \n",
    "    # Calculate the true value of e\n",
    "    true_value = math.exp(1)\n",
    "    \n",
    "    # Calculate the error\n",
    "    error = abs(approximation - true_value)\n",
    "    \n",
    "    # Print the results\n",
    "    print(f\"Approximation of e using (1 + 1/{n})^{n}: {approximation}\")\n",
    "    print(f\"True value of e: {true_value}\")\n",
    "    print(f\"Error: {error}\")\n",
    "\n",
    "# Example usage\n",
    "print_euler_lim_error(10)\n",
    "\n",
    "    \n",
    "   "
   ]
  },
  {
   "cell_type": "code",
   "execution_count": null,
   "id": "e2b0c818",
   "metadata": {},
   "outputs": [],
   "source": []
  },
  {
   "cell_type": "code",
   "execution_count": null,
   "id": "64645833",
   "metadata": {},
   "outputs": [],
   "source": []
  },
  {
   "cell_type": "code",
   "execution_count": 37,
   "id": "2fc197d3",
   "metadata": {},
   "outputs": [
    {
     "data": {
      "text/markdown": [
       "\n",
       "from the approxiation of euler_sum_error(10) and euler_lim_error(10)\n",
       "we can see that the error of euler_sum is smaller than euler_lim\n",
       "and therefore we consider euler_sum might be a better approximation\n"
      ],
      "text/plain": [
       "<IPython.core.display.Markdown object>"
      ]
     },
     "execution_count": 37,
     "metadata": {},
     "output_type": "execute_result"
    }
   ],
   "source": [
    "#Part 6\n",
    "ans = \"\"\"\n",
    "from the approxiation of euler_sum_error(10) and euler_lim_error(10)\n",
    "we can see that the error of euler_sum is smaller than euler_lim\n",
    "and therefore we consider euler_sum might be a better approximation\n",
    "\"\"\"\n",
    "md(ans)"
   ]
  },
  {
   "cell_type": "code",
   "execution_count": 38,
   "id": "06be184c",
   "metadata": {},
   "outputs": [],
   "source": [
    "#Problem 4"
   ]
  },
  {
   "cell_type": "code",
   "execution_count": 39,
   "id": "573af078",
   "metadata": {},
   "outputs": [],
   "source": [
    "#part 1\n",
    "def is_power_of_2(n, p):\n",
    "    if n == 2**p:\n",
    "        return True\n",
    "    else:\n",
    "        return False\n"
   ]
  },
  {
   "cell_type": "code",
   "execution_count": 40,
   "id": "54a7130a",
   "metadata": {},
   "outputs": [],
   "source": [
    "def is_power_of_2(n):\n",
    "    p = 0\n",
    "    while 2**p <= n:\n",
    "        if n == 2**p:\n",
    "            return True\n",
    "        p += 1\n",
    "    return False\n"
   ]
  },
  {
   "cell_type": "code",
   "execution_count": 41,
   "id": "9472d007",
   "metadata": {},
   "outputs": [
    {
     "data": {
      "text/plain": [
       "True"
      ]
     },
     "execution_count": 41,
     "metadata": {},
     "output_type": "execute_result"
    }
   ],
   "source": [
    "is_power_of_2(1)"
   ]
  },
  {
   "cell_type": "code",
   "execution_count": 42,
   "id": "6a7d5ec6",
   "metadata": {},
   "outputs": [
    {
     "data": {
      "text/plain": [
       "True"
      ]
     },
     "execution_count": 42,
     "metadata": {},
     "output_type": "execute_result"
    }
   ],
   "source": [
    "is_power_of_2(4)"
   ]
  },
  {
   "cell_type": "code",
   "execution_count": 43,
   "id": "8b86a215",
   "metadata": {},
   "outputs": [],
   "source": [
    "#part 2\n",
    "def is_power(b,n):\n",
    "    p = 0\n",
    "    while b**p <= n:\n",
    "        if n== b**p:\n",
    "            return True\n",
    "        p += 1\n",
    "    return False"
   ]
  },
  {
   "cell_type": "code",
   "execution_count": 44,
   "id": "f8e513ea",
   "metadata": {},
   "outputs": [
    {
     "data": {
      "text/plain": [
       "True"
      ]
     },
     "execution_count": 44,
     "metadata": {},
     "output_type": "execute_result"
    }
   ],
   "source": [
    "is_power(5, 125)"
   ]
  },
  {
   "cell_type": "code",
   "execution_count": null,
   "id": "434aa788",
   "metadata": {},
   "outputs": [],
   "source": [
    "is_power(1, 2)"
   ]
  },
  {
   "cell_type": "code",
   "execution_count": null,
   "id": "680370fe",
   "metadata": {},
   "outputs": [],
   "source": [
    "is_power(3, 1)"
   ]
  },
  {
   "cell_type": "code",
   "execution_count": null,
   "id": "6850d207",
   "metadata": {},
   "outputs": [],
   "source": []
  },
  {
   "cell_type": "code",
   "execution_count": null,
   "id": "a833afc3",
   "metadata": {},
   "outputs": [],
   "source": [
    "#problem 5\n",
    "#here is my repository link\n",
    "ans=\"\"\"\n",
    "https://github.com/kevinlmf/STATS-507 \n",
    "\"\"\""
   ]
  },
  {
   "cell_type": "code",
   "execution_count": null,
   "id": "d93b4a52",
   "metadata": {},
   "outputs": [],
   "source": []
  }
 ],
 "metadata": {
  "kernelspec": {
   "display_name": "Python 3 (ipykernel)",
   "language": "python",
   "name": "python3"
  },
  "language_info": {
   "codemirror_mode": {
    "name": "ipython",
    "version": 3
   },
   "file_extension": ".py",
   "mimetype": "text/x-python",
   "name": "python",
   "nbconvert_exporter": "python",
   "pygments_lexer": "ipython3",
   "version": "3.11.3"
  }
 },
 "nbformat": 4,
 "nbformat_minor": 5
}
